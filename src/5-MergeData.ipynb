{
 "cells": [
  {
   "cell_type": "code",
   "execution_count": null,
   "metadata": {},
   "outputs": [],
   "source": [
    "import pandas as pd"
   ]
  },
  {
   "cell_type": "code",
   "execution_count": null,
   "metadata": {},
   "outputs": [],
   "source": [
    "stockTicker = 'AAPL'\n",
    "posts = pd.read_csv('./data/tweets/grouped/' + stockTicker + '.csv', on_bad_lines='skip')\n",
    "\n",
    "stock = pd.read_csv('./data/stock/' + stockTicker + '.csv', on_bad_lines='skip')"
   ]
  },
  {
   "cell_type": "code",
   "execution_count": null,
   "metadata": {},
   "outputs": [],
   "source": [
    "posts['Date'] = pd.to_datetime(posts['Date'], unit='s').dt.date\n",
    "stock['date'] = pd.to_datetime(stock['date']).dt.date"
   ]
  },
  {
   "cell_type": "code",
   "execution_count": null,
   "metadata": {},
   "outputs": [],
   "source": [
    "type(posts['Date'][0])"
   ]
  },
  {
   "cell_type": "code",
   "execution_count": null,
   "metadata": {},
   "outputs": [],
   "source": [
    "type(stock['date'][0])"
   ]
  },
  {
   "cell_type": "code",
   "execution_count": null,
   "metadata": {},
   "outputs": [],
   "source": [
    "merged_df = pd.merge(stock, posts.groupby('Date')['Score'].sum().reset_index(), left_on='date', right_on='Date', how='left')\n",
    "\n",
    "#merged_df['date'] = merged_df['date'].astype(str)\n",
    "merged_df.fillna(0, inplace=True)\n",
    "merged_df['Score'] = merged_df['Score'].astype(int)\n",
    "merged_df['close'] = merged_df['close'].astype(float)\n",
    "merged_df.drop('Date', axis=1, inplace=True)\n",
    "merged_df = merged_df.reindex(columns=['date', 'close', 'Score'])\n",
    "merged_df.tail(200)"
   ]
  },
  {
   "cell_type": "code",
   "execution_count": null,
   "metadata": {},
   "outputs": [],
   "source": [
    "merged_df.to_csv('data\\\\final\\\\' + stockTicker + '.csv', index=False)"
   ]
  }
 ],
 "metadata": {
  "kernelspec": {
   "display_name": "cuda-gpt",
   "language": "python",
   "name": "cuda"
  },
  "language_info": {
   "codemirror_mode": {
    "name": "ipython",
    "version": 3
   },
   "file_extension": ".py",
   "mimetype": "text/x-python",
   "name": "python",
   "nbconvert_exporter": "python",
   "pygments_lexer": "ipython3",
   "version": "3.11.4"
  }
 },
 "nbformat": 4,
 "nbformat_minor": 2
}
