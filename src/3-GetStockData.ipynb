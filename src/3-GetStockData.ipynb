{
 "cells": [
  {
   "cell_type": "code",
   "execution_count": null,
   "metadata": {},
   "outputs": [],
   "source": [
    "%pip install yahoo_fin"
   ]
  },
  {
   "cell_type": "code",
   "execution_count": null,
   "metadata": {},
   "outputs": [],
   "source": [
    "import time as tm\n",
    "import datetime as dt\n",
    "import numpy as np\n",
    "\n",
    "# Data preparation\n",
    "from yahoo_fin import stock_info as yf\n",
    "\n",
    "# Graphics library\n",
    "import matplotlib.pyplot as plt"
   ]
  },
  {
   "cell_type": "code",
   "execution_count": null,
   "metadata": {},
   "outputs": [],
   "source": [
    "# SETTINGS\n",
    "# Stock ticker, TSLA AAPL\n",
    "STOCK = 'AAPL'"
   ]
  },
  {
   "cell_type": "code",
   "execution_count": null,
   "metadata": {},
   "outputs": [],
   "source": [
    "# Current date\n",
    "date_now = tm.strftime('%Y-%m-%d')\n",
    "date_6_years_back = (dt.date.today() - dt.timedelta(days=2280)).strftime('%Y-%m-%d')\n",
    "\n",
    "# LOAD DATA\n",
    "# from yahoo_fin\n",
    "# for 1104 bars with interval = 1d (one day)\n",
    "stockDF = yf.get_data(\n",
    "    STOCK,\n",
    "    start_date=date_6_years_back,\n",
    "    end_date=date_now,\n",
    "    interval='1d')"
   ]
  },
  {
   "cell_type": "code",
   "execution_count": null,
   "metadata": {},
   "outputs": [],
   "source": [
    "# remove columns which our neural network will not use\n",
    "stockDF = stockDF.drop(['open', 'high', 'low', 'adjclose', 'ticker', 'volume'], axis=1)\n",
    "# create the column 'date' based on index column\n",
    "stockDF['date'] = stockDF.index\n",
    "stockDF = stockDF.round(4)\n",
    "stockDF"
   ]
  },
  {
   "cell_type": "code",
   "execution_count": null,
   "metadata": {},
   "outputs": [],
   "source": [
    "stockDF.to_csv('./data/stock/' + STOCK + '.csv', index=False)"
   ]
  },
  {
   "cell_type": "code",
   "execution_count": null,
   "metadata": {},
   "outputs": [],
   "source": [
    "# Let's preliminary see our data on the graphic\n",
    "plt.style.use(style='ggplot')\n",
    "plt.figure(figsize=(16,10))\n",
    "plt.plot(stockDF['close'][-200:])\n",
    "plt.xlabel(\"Days\")\n",
    "plt.ylabel(\"Price\")\n",
    "plt.legend([f'Actual price for {STOCK}'])\n",
    "plt.show()"
   ]
  }
 ],
 "metadata": {
  "kernelspec": {
   "display_name": "cuda-gpt",
   "language": "python",
   "name": "cuda"
  },
  "language_info": {
   "codemirror_mode": {
    "name": "ipython",
    "version": 3
   },
   "file_extension": ".py",
   "mimetype": "text/x-python",
   "name": "python",
   "nbconvert_exporter": "python",
   "pygments_lexer": "ipython3",
   "version": "3.11.4"
  }
 },
 "nbformat": 4,
 "nbformat_minor": 2
}
