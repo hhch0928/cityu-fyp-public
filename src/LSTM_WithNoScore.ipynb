{
 "cells": [
  {
   "cell_type": "code",
   "execution_count": null,
   "metadata": {},
   "outputs": [],
   "source": [
    "import pandas as pd\n",
    "import numpy as np\n",
    "import time as tm\n",
    "import datetime as dt\n",
    "import tensorflow as tf\n",
    "\n",
    "from collections import deque\n",
    "\n",
    "# AI\n",
    "from keras.models import Sequential\n",
    "from keras.layers import Dense, LSTM, Dropout"
   ]
  },
  {
   "cell_type": "code",
   "execution_count": null,
   "metadata": {},
   "outputs": [],
   "source": [
    "# SETTINGS\n",
    "\n",
    "# Window size or the sequence length, 7 (1 week)\n",
    "N_STEPS = 7\n",
    "\n",
    "days = 1\n",
    "\n",
    "stockTicker = 'TSLA'"
   ]
  },
  {
   "cell_type": "code",
   "execution_count": null,
   "metadata": {},
   "outputs": [],
   "source": [
    "merged_df = pd.read_csv('./data/stock/' + stockTicker + '.csv')"
   ]
  },
  {
   "cell_type": "code",
   "execution_count": null,
   "metadata": {},
   "outputs": [],
   "source": [
    "merged_df['future'] = merged_df['close'].shift(-days)\n",
    "last_sequence = np.array(merged_df[['close']].tail(7))\n",
    "merged_df.dropna(inplace=True)\n",
    "sequence_data = []\n",
    "sequences = deque(maxlen=N_STEPS)\n",
    "\n",
    "for entry, target in zip(merged_df[['close'] + ['date']].values, merged_df['future'].values):\n",
    "      sequences.append(entry)\n",
    "      if len(sequences) == N_STEPS:\n",
    "          sequence_data.append([np.array(sequences), target])\n",
    "        \n",
    "print(\"sequences1\", last_sequence)\n",
    "\n",
    "\n",
    "# construct the X's and Y's\n",
    "X, Y = [], []\n",
    "for seq, target in sequence_data:\n",
    "    X.append(seq)\n",
    "    Y.append(target)\n",
    "# convert to numpy arrays\n",
    "\n",
    "X = np.array(X)\n",
    "X = np.delete(X,[1],2).astype(np.float32)\n",
    "Y = np.array(Y).astype(np.float32)"
   ]
  },
  {
   "cell_type": "code",
   "execution_count": null,
   "metadata": {},
   "outputs": [],
   "source": [
    "model = Sequential()\n",
    "model.add(LSTM(60, return_sequences=True, input_shape=(7, len(['close']))))\n",
    "model.add(LSTM(120, return_sequences=False))\n",
    "model.add(Dense(20))\n",
    "model.add(Dense(1))\n",
    "\n",
    "BATCH_SIZE = 8\n",
    "EPOCHS = 80\n",
    "\n",
    "model.compile(loss='mean_squared_error', optimizer='adam')"
   ]
  },
  {
   "cell_type": "code",
   "execution_count": null,
   "metadata": {},
   "outputs": [],
   "source": [
    "print(X.shape)\n",
    "print(Y.shape)\n",
    "model.fit(X, Y,\n",
    "          batch_size=BATCH_SIZE,\n",
    "          epochs=EPOCHS,\n",
    "          verbose=1)\n",
    "\n",
    "model.save('./model/NoScore_' + stockTicker + '.keras')\n",
    "\n",
    "model.summary()"
   ]
  },
  {
   "cell_type": "code",
   "execution_count": null,
   "metadata": {},
   "outputs": [],
   "source": [
    "# GET PREDICTIONS\n",
    "last_sequence = last_sequence[-N_STEPS:]\n",
    "last_sequence = np.expand_dims(last_sequence, axis=0)\n",
    "\n",
    "print(last_sequence)\n",
    "prediction = model.predict(last_sequence)\n",
    "prediction"
   ]
  }
 ],
 "metadata": {
  "kernelspec": {
   "display_name": "cuda-gpt",
   "language": "python",
   "name": "cuda"
  },
  "language_info": {
   "codemirror_mode": {
    "name": "ipython",
    "version": 3
   },
   "file_extension": ".py",
   "mimetype": "text/x-python",
   "name": "python",
   "nbconvert_exporter": "python",
   "pygments_lexer": "ipython3",
   "version": "3.11.4"
  }
 },
 "nbformat": 4,
 "nbformat_minor": 2
}
